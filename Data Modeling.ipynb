{
 "cells": [
  {
   "cell_type": "code",
   "execution_count": 1,
   "metadata": {},
   "outputs": [],
   "source": [
    "#importing packages\n",
    "from sklearn.model_selection import train_test_split\n",
    "import numpy as np\n",
    "import pandas as pd\n",
    "from sklearn.neighbors import KNeighborsClassifier\n",
    "\n",
    "#read the csv\n",
    "df = pd.read_csv(\"AdultData.csv\",sep = None, engine = 'python',header = None, decimal = '.', names = ['age', 'workclass', 'fnlwgt', 'education', 'education-num', 'marital-status', 'occupation', 'relationship', 'race', 'sex', 'capital-gain', 'capital-loss', 'hours-per-week', 'native-country','income' ]  )\n",
    "#read the columns \n",
    "df.dtypes\n",
    "#checking the count of the columns\n",
    "df.count()\n",
    "#checking age range first\n",
    "dfAge = df['age']\n",
    "dfAgeRangeCheck = dfAge.between(16,100)\n",
    "dfAgeRangeCheck[dfAgeRangeCheck[:] == False]\n",
    "#no value that is outside of range 16 and 100\n",
    "#Next to check the workclass\n",
    "df['workclass'].value_counts()\n",
    "#number of missing values\n",
    "mv=1836\n",
    "#remove whitespace\n",
    "df['workclass']=df['workclass'].str.strip()\n",
    "#total counts of dataset\n",
    "df.count()\n",
    "#calculate the percentage of missing values\n",
    "p = (1836.0/32561)\n",
    "#p=0.056 which means only 5.6% values have missed. It is very insignificant, so we will drop them\n",
    "df = df[df[\"workclass\"] != \"?\" ]\n",
    "# we can see that there are a few missing values\n",
    "#Next is fnlwgt\n",
    "dfFinalWeight = df['fnlwgt']\n",
    "df[df['fnlwgt'].isnull()]\n",
    "#continuous variable with no nulls\n",
    "#Next is education\n",
    "dfEducation = df['education']\n",
    "dfEducation.value_counts()\n",
    "#check No nulls\n",
    "df[dfEducation.isnull()]\n",
    "#no nulls next is education-num\n",
    "dfEducationNum = df['education-num']\n",
    "dfEducationNum.value_counts()\n",
    "#no null variables\n",
    "#Next is marital-status\n",
    "dfMaritalStatus = df['marital-status']\n",
    "dfMaritalStatus.value_counts()\n",
    "#no missing variables. Onto occupation\n",
    "df['occupation'].value_counts()\n",
    "#total number of missing values\n",
    "mv=mv+7\n",
    "#remove whitespace\n",
    "df['occupation']=df['occupation'].str.strip()\n",
    "#total counts of dataset\n",
    "df.count()\n",
    "#calculate the percentage of missing values\n",
    "p = (7.0/30725)\n",
    "#p=0.00022 which means only 5.6% values have missed. It is very insignificant, so we will drop them\n",
    "df = df[df[\"occupation\"] != \"?\" ]\n",
    "#next is relationship\n",
    "dfRelationship = df['relationship']\n",
    "dfRelationship.value_counts()\n",
    "#no missing values,\n",
    "#next we move onto race\n",
    "dfRace = df['race']\n",
    "dfRace.value_counts()\n",
    "#no missing values, so onto the next variable \n",
    "dfSex = df['sex']\n",
    "dfSex.value_counts()\n",
    "#no missing variables, so onto the next of capital-gain 0 or above\n",
    "dfCapitalGain = df['capital-gain']\n",
    "dfCapitalGainCheck = dfCapitalGain.between(0,999999)\n",
    "dfCapitalGainCheck[dfCapitalGainCheck[:] == False]\n",
    "#capital-loss check 0 or above\n",
    "dfCapitalLoss = df['capital-loss']\n",
    "dfCapitalLossCheck = dfCapitalLoss.between(0,999999)\n",
    "dfCapitalLossCheck[dfCapitalLossCheck[:] == False]\n",
    "#checking if hours per week is at least 0 and above\n",
    "dfHoursPerWeek = df['hours-per-week']\n",
    "dfHoursPerWeekCheck = dfHoursPerWeek.between(0,9999999)\n",
    "dfHoursPerWeekCheck[dfHoursPerWeekCheck[:] == False]\n",
    "#checking native countries, 556 records of '?' values\n",
    "df['native-country'].value_counts()\n",
    "#total number of missing values\n",
    "mv=mv+556\n",
    "#remove whitespace\n",
    "df['native-country']=df['native-country'].str.strip()\n",
    "#total counts of dataset, total records is 30178\n",
    "df.count()\n",
    "#calculate the percentage of missing values\n",
    "p = (556.0/30178)\n",
    "#p=0.0184 which means only 5.6% values have missed. It is very insignificant, so we will drop them\n",
    "df = df[df[\"native-country\"] != \"?\" ]\n"
   ]
  },
  {
   "cell_type": "code",
   "execution_count": null,
   "metadata": {},
   "outputs": [],
   "source": []
  },
  {
   "cell_type": "code",
   "execution_count": 2,
   "metadata": {},
   "outputs": [],
   "source": [
    "#seperate variable as variables and target variables\n",
    "# X=df.drop(['income'], axis=1)\n",
    "# y=df['income']\n",
    "# y.value_counts()\n",
    "y = df['income']\n",
    "X = df.iloc[:,0:-1]\n"
   ]
  },
  {
   "cell_type": "code",
   "execution_count": 3,
   "metadata": {},
   "outputs": [
    {
     "name": "stdout",
     "output_type": "stream",
     "text": [
      "Index([u'workclass', u'education', u'marital-status', u'occupation',\n",
      "       u'relationship', u'race', u'sex', u'native-country', u'income'],\n",
      "      dtype='object')\n",
      "9\n"
     ]
    }
   ],
   "source": [
    "categorical_var = df.select_dtypes(include=['object']).columns\n",
    "print(categorical_var)\n",
    "print(len(categorical_var))"
   ]
  },
  {
   "cell_type": "code",
   "execution_count": 4,
   "metadata": {},
   "outputs": [
    {
     "name": "stdout",
     "output_type": "stream",
     "text": [
      "Index([u'age', u'fnlwgt', u'education-num', u'capital-gain', u'capital-loss',\n",
      "       u'hours-per-week', u'workclass_Federal-gov', u'workclass_Local-gov',\n",
      "       u'workclass_Private', u'workclass_Self-emp-inc',\n",
      "       ...\n",
      "       u'native-country_Portugal', u'native-country_Puerto-Rico',\n",
      "       u'native-country_Scotland', u'native-country_South',\n",
      "       u'native-country_Taiwan', u'native-country_Thailand',\n",
      "       u'native-country_Trinadad&Tobago', u'native-country_United-States',\n",
      "       u'native-country_Vietnam', u'native-country_Yugoslavia'],\n",
      "      dtype='object', length=104)\n"
     ]
    }
   ],
   "source": [
    "X = pd.get_dummies(X)\n",
    "from pprint import pprint\n",
    "import numpy\n",
    "opt = numpy.get_printoptions()\n",
    "numpy.set_printoptions(threshold='nan')\n",
    "\n",
    "pprint(X.columns)\n",
    "numpy.set_printoptions(**opt)\n"
   ]
  },
  {
   "cell_type": "code",
   "execution_count": 5,
   "metadata": {},
   "outputs": [
    {
     "ename": "NameError",
     "evalue": "name 'cross_validation' is not defined",
     "output_type": "error",
     "traceback": [
      "\u001b[1;31m---------------------------------------------------------------------------\u001b[0m",
      "\u001b[1;31mNameError\u001b[0m                                 Traceback (most recent call last)",
      "\u001b[1;32m<ipython-input-5-1fd21c417c25>\u001b[0m in \u001b[0;36m<module>\u001b[1;34m()\u001b[0m\n\u001b[1;32m----> 1\u001b[1;33m \u001b[0mX_1\u001b[0m\u001b[1;33m,\u001b[0m \u001b[0mX_test\u001b[0m\u001b[1;33m,\u001b[0m \u001b[0my_1\u001b[0m\u001b[1;33m,\u001b[0m \u001b[0my_test\u001b[0m \u001b[1;33m=\u001b[0m \u001b[0mcross_validation\u001b[0m\u001b[1;33m.\u001b[0m\u001b[0mtrain_test_split\u001b[0m\u001b[1;33m(\u001b[0m\u001b[0mX\u001b[0m\u001b[1;33m,\u001b[0m \u001b[0my\u001b[0m\u001b[1;33m,\u001b[0m \u001b[0mtest_size\u001b[0m\u001b[1;33m=\u001b[0m\u001b[1;36m0.3\u001b[0m\u001b[1;33m,\u001b[0m \u001b[0mrandom_state\u001b[0m\u001b[1;33m=\u001b[0m\u001b[1;36m0\u001b[0m\u001b[1;33m)\u001b[0m\u001b[1;33m\u001b[0m\u001b[0m\n\u001b[0m",
      "\u001b[1;31mNameError\u001b[0m: name 'cross_validation' is not defined"
     ]
    }
   ],
   "source": [
    "X_1, X_test, y_1, y_test = cross_validation.train_test_split(X, y, test_size=0.3, random_state=0)"
   ]
  },
  {
   "cell_type": "code",
   "execution_count": null,
   "metadata": {},
   "outputs": [],
   "source": [
    "clf.fit(X_train, y_train)"
   ]
  },
  {
   "cell_type": "code",
   "execution_count": null,
   "metadata": {},
   "outputs": [],
   "source": []
  }
 ],
 "metadata": {
  "kernelspec": {
   "display_name": "Python 2",
   "language": "python",
   "name": "python2"
  },
  "language_info": {
   "codemirror_mode": {
    "name": "ipython",
    "version": 2
   },
   "file_extension": ".py",
   "mimetype": "text/x-python",
   "name": "python",
   "nbconvert_exporter": "python",
   "pygments_lexer": "ipython2",
   "version": "2.7.15"
  }
 },
 "nbformat": 4,
 "nbformat_minor": 2
}
